{
 "cells": [
  {
   "cell_type": "code",
   "execution_count": 1,
   "id": "a93be239",
   "metadata": {
    "_cell_guid": "b1076dfc-b9ad-4769-8c92-a6c4dae69d19",
    "_uuid": "8f2839f25d086af736a60e9eeb907d3b93b6e0e5",
    "execution": {
     "iopub.execute_input": "2023-06-21T11:43:31.486632Z",
     "iopub.status.busy": "2023-06-21T11:43:31.486188Z",
     "iopub.status.idle": "2023-06-21T11:43:33.859460Z",
     "shell.execute_reply": "2023-06-21T11:43:33.858043Z"
    },
    "papermill": {
     "duration": 2.387542,
     "end_time": "2023-06-21T11:43:33.863047",
     "exception": false,
     "start_time": "2023-06-21T11:43:31.475505",
     "status": "completed"
    },
    "tags": []
   },
   "outputs": [],
   "source": [
    "import numpy as np\n",
    "import pandas as pd\n",
    "import matplotlib.pyplot as plt\n",
    "import seaborn as sns\n",
    "\n",
    "import xgboost as xgb\n",
    "\n",
    "from sklearn.model_selection import train_test_split\n",
    "from sklearn.preprocessing import LabelEncoder\n",
    "from sklearn.metrics import accuracy_score, confusion_matrix, classification_report, ConfusionMatrixDisplay"
   ]
  },
  {
   "cell_type": "code",
   "execution_count": 2,
   "id": "bf1faa33",
   "metadata": {
    "execution": {
     "iopub.execute_input": "2023-06-21T11:43:33.881889Z",
     "iopub.status.busy": "2023-06-21T11:43:33.881494Z",
     "iopub.status.idle": "2023-06-21T11:43:33.953972Z",
     "shell.execute_reply": "2023-06-21T11:43:33.952179Z"
    },
    "papermill": {
     "duration": 0.085236,
     "end_time": "2023-06-21T11:43:33.956854",
     "exception": false,
     "start_time": "2023-06-21T11:43:33.871618",
     "status": "completed"
    },
    "tags": []
   },
   "outputs": [
    {
     "data": {
      "text/html": [
       "<div>\n",
       "<style scoped>\n",
       "    .dataframe tbody tr th:only-of-type {\n",
       "        vertical-align: middle;\n",
       "    }\n",
       "\n",
       "    .dataframe tbody tr th {\n",
       "        vertical-align: top;\n",
       "    }\n",
       "\n",
       "    .dataframe thead th {\n",
       "        text-align: right;\n",
       "    }\n",
       "</style>\n",
       "<table border=\"1\" class=\"dataframe\">\n",
       "  <thead>\n",
       "    <tr style=\"text-align: right;\">\n",
       "      <th></th>\n",
       "      <th>Age</th>\n",
       "      <th>Sex</th>\n",
       "      <th>BP</th>\n",
       "      <th>Cholesterol</th>\n",
       "      <th>Na_to_K</th>\n",
       "      <th>Drug</th>\n",
       "    </tr>\n",
       "  </thead>\n",
       "  <tbody>\n",
       "    <tr>\n",
       "      <th>0</th>\n",
       "      <td>23</td>\n",
       "      <td>F</td>\n",
       "      <td>HIGH</td>\n",
       "      <td>HIGH</td>\n",
       "      <td>25.355</td>\n",
       "      <td>DrugY</td>\n",
       "    </tr>\n",
       "    <tr>\n",
       "      <th>1</th>\n",
       "      <td>47</td>\n",
       "      <td>M</td>\n",
       "      <td>LOW</td>\n",
       "      <td>HIGH</td>\n",
       "      <td>13.093</td>\n",
       "      <td>drugC</td>\n",
       "    </tr>\n",
       "    <tr>\n",
       "      <th>2</th>\n",
       "      <td>47</td>\n",
       "      <td>M</td>\n",
       "      <td>LOW</td>\n",
       "      <td>HIGH</td>\n",
       "      <td>10.114</td>\n",
       "      <td>drugC</td>\n",
       "    </tr>\n",
       "    <tr>\n",
       "      <th>3</th>\n",
       "      <td>28</td>\n",
       "      <td>F</td>\n",
       "      <td>NORMAL</td>\n",
       "      <td>HIGH</td>\n",
       "      <td>7.798</td>\n",
       "      <td>drugX</td>\n",
       "    </tr>\n",
       "    <tr>\n",
       "      <th>4</th>\n",
       "      <td>61</td>\n",
       "      <td>F</td>\n",
       "      <td>LOW</td>\n",
       "      <td>HIGH</td>\n",
       "      <td>18.043</td>\n",
       "      <td>DrugY</td>\n",
       "    </tr>\n",
       "  </tbody>\n",
       "</table>\n",
       "</div>"
      ],
      "text/plain": [
       "   Age Sex      BP Cholesterol  Na_to_K   Drug\n",
       "0   23   F    HIGH        HIGH   25.355  DrugY\n",
       "1   47   M     LOW        HIGH   13.093  drugC\n",
       "2   47   M     LOW        HIGH   10.114  drugC\n",
       "3   28   F  NORMAL        HIGH    7.798  drugX\n",
       "4   61   F     LOW        HIGH   18.043  DrugY"
      ]
     },
     "execution_count": 2,
     "metadata": {},
     "output_type": "execute_result"
    }
   ],
   "source": [
    "df = pd.read_csv('/kaggle/input/drug-classification/drug200.csv')\n",
    "df.head()"
   ]
  },
  {
   "cell_type": "code",
   "execution_count": 3,
   "id": "9eea1056",
   "metadata": {
    "execution": {
     "iopub.execute_input": "2023-06-21T11:43:33.977301Z",
     "iopub.status.busy": "2023-06-21T11:43:33.976746Z",
     "iopub.status.idle": "2023-06-21T11:43:33.991695Z",
     "shell.execute_reply": "2023-06-21T11:43:33.990593Z"
    },
    "papermill": {
     "duration": 0.028686,
     "end_time": "2023-06-21T11:43:33.994534",
     "exception": false,
     "start_time": "2023-06-21T11:43:33.965848",
     "status": "completed"
    },
    "tags": []
   },
   "outputs": [
    {
     "data": {
      "text/plain": [
       "Age            0\n",
       "Sex            0\n",
       "BP             0\n",
       "Cholesterol    0\n",
       "Na_to_K        0\n",
       "Drug           0\n",
       "dtype: int64"
      ]
     },
     "execution_count": 3,
     "metadata": {},
     "output_type": "execute_result"
    }
   ],
   "source": [
    "df.isna().sum()"
   ]
  },
  {
   "cell_type": "code",
   "execution_count": 4,
   "id": "21580aac",
   "metadata": {
    "execution": {
     "iopub.execute_input": "2023-06-21T11:43:34.016349Z",
     "iopub.status.busy": "2023-06-21T11:43:34.015399Z",
     "iopub.status.idle": "2023-06-21T11:43:34.023289Z",
     "shell.execute_reply": "2023-06-21T11:43:34.022140Z"
    },
    "papermill": {
     "duration": 0.022067,
     "end_time": "2023-06-21T11:43:34.025902",
     "exception": false,
     "start_time": "2023-06-21T11:43:34.003835",
     "status": "completed"
    },
    "tags": []
   },
   "outputs": [
    {
     "data": {
      "text/plain": [
       "(200, 6)"
      ]
     },
     "execution_count": 4,
     "metadata": {},
     "output_type": "execute_result"
    }
   ],
   "source": [
    "df.shape"
   ]
  },
  {
   "cell_type": "code",
   "execution_count": 5,
   "id": "6b44af78",
   "metadata": {
    "execution": {
     "iopub.execute_input": "2023-06-21T11:43:34.049312Z",
     "iopub.status.busy": "2023-06-21T11:43:34.048087Z",
     "iopub.status.idle": "2023-06-21T11:43:34.084555Z",
     "shell.execute_reply": "2023-06-21T11:43:34.083052Z"
    },
    "papermill": {
     "duration": 0.050872,
     "end_time": "2023-06-21T11:43:34.087640",
     "exception": false,
     "start_time": "2023-06-21T11:43:34.036768",
     "status": "completed"
    },
    "tags": []
   },
   "outputs": [
    {
     "name": "stdout",
     "output_type": "stream",
     "text": [
      "<class 'pandas.core.frame.DataFrame'>\n",
      "RangeIndex: 200 entries, 0 to 199\n",
      "Data columns (total 6 columns):\n",
      " #   Column       Non-Null Count  Dtype  \n",
      "---  ------       --------------  -----  \n",
      " 0   Age          200 non-null    int64  \n",
      " 1   Sex          200 non-null    object \n",
      " 2   BP           200 non-null    object \n",
      " 3   Cholesterol  200 non-null    object \n",
      " 4   Na_to_K      200 non-null    float64\n",
      " 5   Drug         200 non-null    object \n",
      "dtypes: float64(1), int64(1), object(4)\n",
      "memory usage: 9.5+ KB\n"
     ]
    }
   ],
   "source": [
    "df.info()"
   ]
  },
  {
   "cell_type": "markdown",
   "id": "fafb49d8",
   "metadata": {
    "papermill": {
     "duration": 0.008718,
     "end_time": "2023-06-21T11:43:34.105352",
     "exception": false,
     "start_time": "2023-06-21T11:43:34.096634",
     "status": "completed"
    },
    "tags": []
   },
   "source": [
    "# One Hot Encoding"
   ]
  },
  {
   "cell_type": "code",
   "execution_count": 6,
   "id": "712c11d7",
   "metadata": {
    "execution": {
     "iopub.execute_input": "2023-06-21T11:43:34.124911Z",
     "iopub.status.busy": "2023-06-21T11:43:34.124486Z",
     "iopub.status.idle": "2023-06-21T11:43:34.131424Z",
     "shell.execute_reply": "2023-06-21T11:43:34.130239Z"
    },
    "papermill": {
     "duration": 0.020226,
     "end_time": "2023-06-21T11:43:34.134444",
     "exception": false,
     "start_time": "2023-06-21T11:43:34.114218",
     "status": "completed"
    },
    "tags": []
   },
   "outputs": [],
   "source": [
    "categoricals = []\n",
    "for col in df.columns:\n",
    "    if df[col].dtype == 'object':\n",
    "        categoricals.append(col)"
   ]
  },
  {
   "cell_type": "code",
   "execution_count": 7,
   "id": "39ef8305",
   "metadata": {
    "execution": {
     "iopub.execute_input": "2023-06-21T11:43:34.154799Z",
     "iopub.status.busy": "2023-06-21T11:43:34.154380Z",
     "iopub.status.idle": "2023-06-21T11:43:34.159541Z",
     "shell.execute_reply": "2023-06-21T11:43:34.158391Z"
    },
    "papermill": {
     "duration": 0.018348,
     "end_time": "2023-06-21T11:43:34.162168",
     "exception": false,
     "start_time": "2023-06-21T11:43:34.143820",
     "status": "completed"
    },
    "tags": []
   },
   "outputs": [],
   "source": [
    "le = LabelEncoder()"
   ]
  },
  {
   "cell_type": "code",
   "execution_count": 8,
   "id": "963ca4f1",
   "metadata": {
    "execution": {
     "iopub.execute_input": "2023-06-21T11:43:34.181999Z",
     "iopub.status.busy": "2023-06-21T11:43:34.181473Z",
     "iopub.status.idle": "2023-06-21T11:43:34.198861Z",
     "shell.execute_reply": "2023-06-21T11:43:34.197332Z"
    },
    "papermill": {
     "duration": 0.031056,
     "end_time": "2023-06-21T11:43:34.202032",
     "exception": false,
     "start_time": "2023-06-21T11:43:34.170976",
     "status": "completed"
    },
    "tags": []
   },
   "outputs": [
    {
     "data": {
      "text/html": [
       "<div>\n",
       "<style scoped>\n",
       "    .dataframe tbody tr th:only-of-type {\n",
       "        vertical-align: middle;\n",
       "    }\n",
       "\n",
       "    .dataframe tbody tr th {\n",
       "        vertical-align: top;\n",
       "    }\n",
       "\n",
       "    .dataframe thead th {\n",
       "        text-align: right;\n",
       "    }\n",
       "</style>\n",
       "<table border=\"1\" class=\"dataframe\">\n",
       "  <thead>\n",
       "    <tr style=\"text-align: right;\">\n",
       "      <th></th>\n",
       "      <th>Age</th>\n",
       "      <th>Sex</th>\n",
       "      <th>BP</th>\n",
       "      <th>Cholesterol</th>\n",
       "      <th>Na_to_K</th>\n",
       "      <th>Drug</th>\n",
       "    </tr>\n",
       "  </thead>\n",
       "  <tbody>\n",
       "    <tr>\n",
       "      <th>0</th>\n",
       "      <td>23</td>\n",
       "      <td>0</td>\n",
       "      <td>0</td>\n",
       "      <td>0</td>\n",
       "      <td>25.355</td>\n",
       "      <td>0</td>\n",
       "    </tr>\n",
       "    <tr>\n",
       "      <th>1</th>\n",
       "      <td>47</td>\n",
       "      <td>1</td>\n",
       "      <td>1</td>\n",
       "      <td>0</td>\n",
       "      <td>13.093</td>\n",
       "      <td>3</td>\n",
       "    </tr>\n",
       "    <tr>\n",
       "      <th>2</th>\n",
       "      <td>47</td>\n",
       "      <td>1</td>\n",
       "      <td>1</td>\n",
       "      <td>0</td>\n",
       "      <td>10.114</td>\n",
       "      <td>3</td>\n",
       "    </tr>\n",
       "    <tr>\n",
       "      <th>3</th>\n",
       "      <td>28</td>\n",
       "      <td>0</td>\n",
       "      <td>2</td>\n",
       "      <td>0</td>\n",
       "      <td>7.798</td>\n",
       "      <td>4</td>\n",
       "    </tr>\n",
       "    <tr>\n",
       "      <th>4</th>\n",
       "      <td>61</td>\n",
       "      <td>0</td>\n",
       "      <td>1</td>\n",
       "      <td>0</td>\n",
       "      <td>18.043</td>\n",
       "      <td>0</td>\n",
       "    </tr>\n",
       "  </tbody>\n",
       "</table>\n",
       "</div>"
      ],
      "text/plain": [
       "   Age  Sex  BP  Cholesterol  Na_to_K  Drug\n",
       "0   23    0   0            0   25.355     0\n",
       "1   47    1   1            0   13.093     3\n",
       "2   47    1   1            0   10.114     3\n",
       "3   28    0   2            0    7.798     4\n",
       "4   61    0   1            0   18.043     0"
      ]
     },
     "execution_count": 8,
     "metadata": {},
     "output_type": "execute_result"
    }
   ],
   "source": [
    "for col in categoricals:\n",
    "    df[col] = le.fit_transform(df[col])\n",
    "df.head()"
   ]
  },
  {
   "cell_type": "markdown",
   "id": "08d56926",
   "metadata": {
    "papermill": {
     "duration": 0.00926,
     "end_time": "2023-06-21T11:43:34.220773",
     "exception": false,
     "start_time": "2023-06-21T11:43:34.211513",
     "status": "completed"
    },
    "tags": []
   },
   "source": [
    "# Correlation Matrix"
   ]
  },
  {
   "cell_type": "code",
   "execution_count": 9,
   "id": "6775235b",
   "metadata": {
    "execution": {
     "iopub.execute_input": "2023-06-21T11:43:34.242580Z",
     "iopub.status.busy": "2023-06-21T11:43:34.240993Z",
     "iopub.status.idle": "2023-06-21T11:43:34.815551Z",
     "shell.execute_reply": "2023-06-21T11:43:34.814126Z"
    },
    "papermill": {
     "duration": 0.587961,
     "end_time": "2023-06-21T11:43:34.818076",
     "exception": false,
     "start_time": "2023-06-21T11:43:34.230115",
     "status": "completed"
    },
    "tags": []
   },
   "outputs": [
    {
     "data": {
      "text/plain": [
       "<Axes: >"
      ]
     },
     "execution_count": 9,
     "metadata": {},
     "output_type": "execute_result"
    },
    {
     "data": {
      "image/png": "[encoded data removed]",
      "text/plain": [
       "<Figure size 640x480 with 2 Axes>"
      ]
     },
     "metadata": {},
     "output_type": "display_data"
    }
   ],
   "source": [
    "sns.heatmap(df.corr(),annot=True)"
   ]
  },
  {
   "cell_type": "markdown",
   "id": "826fc21a",
   "metadata": {
    "papermill": {
     "duration": 0.010569,
     "end_time": "2023-06-21T11:43:34.838441",
     "exception": false,
     "start_time": "2023-06-21T11:43:34.827872",
     "status": "completed"
    },
    "tags": []
   },
   "source": [
    "# Data preprocessing"
   ]
  },
  {
   "cell_type": "code",
   "execution_count": 10,
   "id": "bf2609ce",
   "metadata": {
    "execution": {
     "iopub.execute_input": "2023-06-21T11:43:34.864223Z",
     "iopub.status.busy": "2023-06-21T11:43:34.862720Z",
     "iopub.status.idle": "2023-06-21T11:43:34.879377Z",
     "shell.execute_reply": "2023-06-21T11:43:34.877874Z"
    },
    "papermill": {
     "duration": 0.033091,
     "end_time": "2023-06-21T11:43:34.882284",
     "exception": false,
     "start_time": "2023-06-21T11:43:34.849193",
     "status": "completed"
    },
    "tags": []
   },
   "outputs": [
    {
     "data": {
      "text/html": [
       "<div>\n",
       "<style scoped>\n",
       "    .dataframe tbody tr th:only-of-type {\n",
       "        vertical-align: middle;\n",
       "    }\n",
       "\n",
       "    .dataframe tbody tr th {\n",
       "        vertical-align: top;\n",
       "    }\n",
       "\n",
       "    .dataframe thead th {\n",
       "        text-align: right;\n",
       "    }\n",
       "</style>\n",
       "<table border=\"1\" class=\"dataframe\">\n",
       "  <thead>\n",
       "    <tr style=\"text-align: right;\">\n",
       "      <th></th>\n",
       "      <th>Age</th>\n",
       "      <th>Sex</th>\n",
       "      <th>BP</th>\n",
       "      <th>Cholesterol</th>\n",
       "      <th>Na_to_K</th>\n",
       "    </tr>\n",
       "  </thead>\n",
       "  <tbody>\n",
       "    <tr>\n",
       "      <th>0</th>\n",
       "      <td>23</td>\n",
       "      <td>0</td>\n",
       "      <td>0</td>\n",
       "      <td>0</td>\n",
       "      <td>25.355</td>\n",
       "    </tr>\n",
       "    <tr>\n",
       "      <th>1</th>\n",
       "      <td>47</td>\n",
       "      <td>1</td>\n",
       "      <td>1</td>\n",
       "      <td>0</td>\n",
       "      <td>13.093</td>\n",
       "    </tr>\n",
       "    <tr>\n",
       "      <th>2</th>\n",
       "      <td>47</td>\n",
       "      <td>1</td>\n",
       "      <td>1</td>\n",
       "      <td>0</td>\n",
       "      <td>10.114</td>\n",
       "    </tr>\n",
       "    <tr>\n",
       "      <th>3</th>\n",
       "      <td>28</td>\n",
       "      <td>0</td>\n",
       "      <td>2</td>\n",
       "      <td>0</td>\n",
       "      <td>7.798</td>\n",
       "    </tr>\n",
       "    <tr>\n",
       "      <th>4</th>\n",
       "      <td>61</td>\n",
       "      <td>0</td>\n",
       "      <td>1</td>\n",
       "      <td>0</td>\n",
       "      <td>18.043</td>\n",
       "    </tr>\n",
       "  </tbody>\n",
       "</table>\n",
       "</div>"
      ],
      "text/plain": [
       "   Age  Sex  BP  Cholesterol  Na_to_K\n",
       "0   23    0   0            0   25.355\n",
       "1   47    1   1            0   13.093\n",
       "2   47    1   1            0   10.114\n",
       "3   28    0   2            0    7.798\n",
       "4   61    0   1            0   18.043"
      ]
     },
     "execution_count": 10,
     "metadata": {},
     "output_type": "execute_result"
    }
   ],
   "source": [
    "Y = df['Drug']\n",
    "X = df.drop(['Drug'],axis=1)\n",
    "X.head()"
   ]
  },
  {
   "cell_type": "code",
   "execution_count": 11,
   "id": "d9085874",
   "metadata": {
    "execution": {
     "iopub.execute_input": "2023-06-21T11:43:34.905847Z",
     "iopub.status.busy": "2023-06-21T11:43:34.904984Z",
     "iopub.status.idle": "2023-06-21T11:43:34.914977Z",
     "shell.execute_reply": "2023-06-21T11:43:34.913768Z"
    },
    "papermill": {
     "duration": 0.025698,
     "end_time": "2023-06-21T11:43:34.918641",
     "exception": false,
     "start_time": "2023-06-21T11:43:34.892943",
     "status": "completed"
    },
    "tags": []
   },
   "outputs": [],
   "source": [
    "X_train,X_test,y_train,y_test = train_test_split(X,Y,test_size=0.15,random_state=123)\n",
    "X_test,X_val,y_test,y_val = train_test_split(X_test,y_test,test_size=0.5,random_state=123)"
   ]
  },
  {
   "cell_type": "markdown",
   "id": "71b1116c",
   "metadata": {
    "papermill": {
     "duration": 0.009639,
     "end_time": "2023-06-21T11:43:34.938525",
     "exception": false,
     "start_time": "2023-06-21T11:43:34.928886",
     "status": "completed"
    },
    "tags": []
   },
   "source": [
    "# Model creation and training"
   ]
  },
  {
   "cell_type": "code",
   "execution_count": 12,
   "id": "3814414a",
   "metadata": {
    "execution": {
     "iopub.execute_input": "2023-06-21T11:43:34.960998Z",
     "iopub.status.busy": "2023-06-21T11:43:34.960496Z",
     "iopub.status.idle": "2023-06-21T11:43:35.349818Z",
     "shell.execute_reply": "2023-06-21T11:43:35.348609Z"
    },
    "papermill": {
     "duration": 0.40381,
     "end_time": "2023-06-21T11:43:35.352329",
     "exception": false,
     "start_time": "2023-06-21T11:43:34.948519",
     "status": "completed"
    },
    "tags": []
   },
   "outputs": [
    {
     "name": "stdout",
     "output_type": "stream",
     "text": [
      "[0]\tvalidation_0-mlogloss:1.00128\tvalidation_1-mlogloss:0.97923\n",
      "[10]\tvalidation_0-mlogloss:0.06490\tvalidation_1-mlogloss:0.05737\n",
      "[20]\tvalidation_0-mlogloss:0.02133\tvalidation_1-mlogloss:0.01545\n",
      "[30]\tvalidation_0-mlogloss:0.01750\tvalidation_1-mlogloss:0.01112\n",
      "[40]\tvalidation_0-mlogloss:0.01685\tvalidation_1-mlogloss:0.01062\n",
      "[50]\tvalidation_0-mlogloss:0.01654\tvalidation_1-mlogloss:0.01043\n",
      "[60]\tvalidation_0-mlogloss:0.01637\tvalidation_1-mlogloss:0.01029\n",
      "[70]\tvalidation_0-mlogloss:0.01626\tvalidation_1-mlogloss:0.01012\n",
      "[80]\tvalidation_0-mlogloss:0.01618\tvalidation_1-mlogloss:0.01001\n",
      "[90]\tvalidation_0-mlogloss:0.01611\tvalidation_1-mlogloss:0.01003\n",
      "[100]\tvalidation_0-mlogloss:0.01605\tvalidation_1-mlogloss:0.01005\n",
      "[110]\tvalidation_0-mlogloss:0.01600\tvalidation_1-mlogloss:0.01007\n",
      "[120]\tvalidation_0-mlogloss:0.01596\tvalidation_1-mlogloss:0.01003\n",
      "[129]\tvalidation_0-mlogloss:0.01593\tvalidation_1-mlogloss:0.01002\n"
     ]
    },
    {
     "data": {
      "text/html": [
       "<style>#sk-container-id-1 {color: black;background-color: white;}#sk-container-id-1 pre{padding: 0;}#sk-container-id-1 div.sk-toggleable {background-color: white;}#sk-container-id-1 label.sk-toggleable__label {cursor: pointer;display: block;width: 100%;margin-bottom: 0;padding: 0.3em;box-sizing: border-box;text-align: center;}#sk-container-id-1 label.sk-toggleable__label-arrow:before {content: \"▸\";float: left;margin-right: 0.25em;color: #696969;}#sk-container-id-1 label.sk-toggleable__label-arrow:hover:before {color: black;}#sk-container-id-1 div.sk-estimator:hover label.sk-toggleable__label-arrow:before {color: black;}#sk-container-id-1 div.sk-toggleable__content {max-height: 0;max-width: 0;overflow: hidden;text-align: left;background-color: #f0f8ff;}#sk-container-id-1 div.sk-toggleable__content pre {margin: 0.2em;color: black;border-radius: 0.25em;background-color: #f0f8ff;}#sk-container-id-1 input.sk-toggleable__control:checked~div.sk-toggleable__content {max-height: 200px;max-width: 100%;overflow: auto;}#sk-container-id-1 input.sk-toggleable__control:checked~label.sk-toggleable__label-arrow:before {content: \"▾\";}#sk-container-id-1 div.sk-estimator input.sk-toggleable__control:checked~label.sk-toggleable__label {background-color: #d4ebff;}#sk-container-id-1 div.sk-label input.sk-toggleable__control:checked~label.sk-toggleable__label {background-color: #d4ebff;}#sk-container-id-1 input.sk-hidden--visually {border: 0;clip: rect(1px 1px 1px 1px);clip: rect(1px, 1px, 1px, 1px);height: 1px;margin: -1px;overflow: hidden;padding: 0;position: absolute;width: 1px;}#sk-container-id-1 div.sk-estimator {font-family: monospace;background-color: #f0f8ff;border: 1px dotted black;border-radius: 0.25em;box-sizing: border-box;margin-bottom: 0.5em;}#sk-container-id-1 div.sk-estimator:hover {background-color: #d4ebff;}#sk-container-id-1 div.sk-parallel-item::after {content: \"\";width: 100%;border-bottom: 1px solid gray;flex-grow: 1;}#sk-container-id-1 div.sk-label:hover label.sk-toggleable__label {background-color: #d4ebff;}#sk-container-id-1 div.sk-serial::before {content: \"\";position: absolute;border-left: 1px solid gray;box-sizing: border-box;top: 0;bottom: 0;left: 50%;z-index: 0;}#sk-container-id-1 div.sk-serial {display: flex;flex-direction: column;align-items: center;background-color: white;padding-right: 0.2em;padding-left: 0.2em;position: relative;}#sk-container-id-1 div.sk-item {position: relative;z-index: 1;}#sk-container-id-1 div.sk-parallel {display: flex;align-items: stretch;justify-content: center;background-color: white;position: relative;}#sk-container-id-1 div.sk-item::before, #sk-container-id-1 div.sk-parallel-item::before {content: \"\";position: absolute;border-left: 1px solid gray;box-sizing: border-box;top: 0;bottom: 0;left: 50%;z-index: -1;}#sk-container-id-1 div.sk-parallel-item {display: flex;flex-direction: column;z-index: 1;position: relative;background-color: white;}#sk-container-id-1 div.sk-parallel-item:first-child::after {align-self: flex-end;width: 50%;}#sk-container-id-1 div.sk-parallel-item:last-child::after {align-self: flex-start;width: 50%;}#sk-container-id-1 div.sk-parallel-item:only-child::after {width: 0;}#sk-container-id-1 div.sk-dashed-wrapped {border: 1px dashed gray;margin: 0 0.4em 0.5em 0.4em;box-sizing: border-box;padding-bottom: 0.4em;background-color: white;}#sk-container-id-1 div.sk-label label {font-family: monospace;font-weight: bold;display: inline-block;line-height: 1.2em;}#sk-container-id-1 div.sk-label-container {text-align: center;}#sk-container-id-1 div.sk-container {/* jupyter's `normalize.less` sets `[hidden] { display: none; }` but bootstrap.min.css set `[hidden] { display: none !important; }` so we also need the `!important` here to be able to override the default hidden behavior on the sphinx rendered scikit-learn.org. See: https://github.com/scikit-learn/scikit-learn/issues/21755 */display: inline-block !important;position: relative;}#sk-container-id-1 div.sk-text-repr-fallback {display: none;}</style><div id=\"sk-container-id-1\" class=\"sk-top-container\"><div class=\"sk-text-repr-fallback\"><pre>XGBClassifier(base_score=None, booster=&#x27;gbtree&#x27;, callbacks=None,\n",
       "              colsample_bylevel=None, colsample_bynode=None,\n",
       "              colsample_bytree=None, early_stopping_rounds=50,\n",
       "              enable_categorical=False, eval_metric=&#x27;mlogloss&#x27;,\n",
       "              feature_types=None, gamma=None, gpu_id=None, grow_policy=None,\n",
       "              importance_type=None, interaction_constraints=None,\n",
       "              learning_rate=None, max_bin=None, max_cat_threshold=None,\n",
       "              max_cat_to_onehot=None, max_delta_step=None, max_depth=10,\n",
       "              max_leaves=None, min_child_weight=None, missing=nan,\n",
       "              monotone_constraints=None, n_estimators=1000, n_jobs=None,\n",
       "              num_parallel_tree=None, objective=&#x27;multi:softprob&#x27;,\n",
       "              predictor=None, ...)</pre><b>In a Jupyter environment, please rerun this cell to show the HTML representation or trust the notebook. <br />On GitHub, the HTML representation is unable to render, please try loading this page with nbviewer.org.</b></div><div class=\"sk-container\" hidden><div class=\"sk-item\"><div class=\"sk-estimator sk-toggleable\"><input class=\"sk-toggleable__control sk-hidden--visually\" id=\"sk-estimator-id-1\" type=\"checkbox\" checked><label for=\"sk-estimator-id-1\" class=\"sk-toggleable__label sk-toggleable__label-arrow\">XGBClassifier</label><div class=\"sk-toggleable__content\"><pre>XGBClassifier(base_score=None, booster=&#x27;gbtree&#x27;, callbacks=None,\n",
       "              colsample_bylevel=None, colsample_bynode=None,\n",
       "              colsample_bytree=None, early_stopping_rounds=50,\n",
       "              enable_categorical=False, eval_metric=&#x27;mlogloss&#x27;,\n",
       "              feature_types=None, gamma=None, gpu_id=None, grow_policy=None,\n",
       "              importance_type=None, interaction_constraints=None,\n",
       "              learning_rate=None, max_bin=None, max_cat_threshold=None,\n",
       "              max_cat_to_onehot=None, max_delta_step=None, max_depth=10,\n",
       "              max_leaves=None, min_child_weight=None, missing=nan,\n",
       "              monotone_constraints=None, n_estimators=1000, n_jobs=None,\n",
       "              num_parallel_tree=None, objective=&#x27;multi:softprob&#x27;,\n",
       "              predictor=None, ...)</pre></div></div></div></div></div>"
      ],
      "text/plain": [
       "XGBClassifier(base_score=None, booster='gbtree', callbacks=None,\n",
       "              colsample_bylevel=None, colsample_bynode=None,\n",
       "              colsample_bytree=None, early_stopping_rounds=50,\n",
       "              enable_categorical=False, eval_metric='mlogloss',\n",
       "              feature_types=None, gamma=None, gpu_id=None, grow_policy=None,\n",
       "              importance_type=None, interaction_constraints=None,\n",
       "              learning_rate=None, max_bin=None, max_cat_threshold=None,\n",
       "              max_cat_to_onehot=None, max_delta_step=None, max_depth=10,\n",
       "              max_leaves=None, min_child_weight=None, missing=nan,\n",
       "              monotone_constraints=None, n_estimators=1000, n_jobs=None,\n",
       "              num_parallel_tree=None, objective='multi:softprob',\n",
       "              predictor=None, ...)"
      ]
     },
     "execution_count": 12,
     "metadata": {},
     "output_type": "execute_result"
    }
   ],
   "source": [
    "model = xgb.XGBClassifier(booster='gbtree',    \n",
    "                       n_estimators=1000,\n",
    "                       early_stopping_rounds=50,\n",
    "                       objective='multi:softprob',\n",
    "                       eval_metric='mlogloss',\n",
    "                       max_depth=10)\n",
    "model.fit(X_train, y_train,\n",
    "        eval_set=[(X_train, y_train), (X_val, y_val)],\n",
    "        verbose=10)"
   ]
  },
  {
   "cell_type": "markdown",
   "id": "6593f76d",
   "metadata": {
    "papermill": {
     "duration": 0.012939,
     "end_time": "2023-06-21T11:43:35.377784",
     "exception": false,
     "start_time": "2023-06-21T11:43:35.364845",
     "status": "completed"
    },
    "tags": []
   },
   "source": [
    "# Model evaluation"
   ]
  },
  {
   "cell_type": "code",
   "execution_count": 13,
   "id": "726d90ad",
   "metadata": {
    "execution": {
     "iopub.execute_input": "2023-06-21T11:43:35.405865Z",
     "iopub.status.busy": "2023-06-21T11:43:35.404670Z",
     "iopub.status.idle": "2023-06-21T11:43:35.415499Z",
     "shell.execute_reply": "2023-06-21T11:43:35.414530Z"
    },
    "papermill": {
     "duration": 0.028535,
     "end_time": "2023-06-21T11:43:35.418679",
     "exception": false,
     "start_time": "2023-06-21T11:43:35.390144",
     "status": "completed"
    },
    "tags": []
   },
   "outputs": [],
   "source": [
    "yhat = model.predict(X_test)"
   ]
  },
  {
   "cell_type": "code",
   "execution_count": 14,
   "id": "811255a5",
   "metadata": {
    "execution": {
     "iopub.execute_input": "2023-06-21T11:43:35.447899Z",
     "iopub.status.busy": "2023-06-21T11:43:35.446422Z",
     "iopub.status.idle": "2023-06-21T11:43:35.455442Z",
     "shell.execute_reply": "2023-06-21T11:43:35.453829Z"
    },
    "papermill": {
     "duration": 0.02577,
     "end_time": "2023-06-21T11:43:35.458068",
     "exception": false,
     "start_time": "2023-06-21T11:43:35.432298",
     "status": "completed"
    },
    "tags": []
   },
   "outputs": [
    {
     "name": "stdout",
     "output_type": "stream",
     "text": [
      "100%\n"
     ]
    }
   ],
   "source": [
    "print(f'{accuracy_score(yhat,y_test) * 100:.0f}%')"
   ]
  },
  {
   "cell_type": "markdown",
   "id": "97e0767b",
   "metadata": {
    "papermill": {
     "duration": 0.011917,
     "end_time": "2023-06-21T11:43:35.482432",
     "exception": false,
     "start_time": "2023-06-21T11:43:35.470515",
     "status": "completed"
    },
    "tags": []
   },
   "source": [
    "## Confusion matrix"
   ]
  },
  {
   "cell_type": "code",
   "execution_count": 15,
   "id": "2c57af6c",
   "metadata": {
    "execution": {
     "iopub.execute_input": "2023-06-21T11:43:35.509827Z",
     "iopub.status.busy": "2023-06-21T11:43:35.508377Z",
     "iopub.status.idle": "2023-06-21T11:43:35.516943Z",
     "shell.execute_reply": "2023-06-21T11:43:35.515672Z"
    },
    "papermill": {
     "duration": 0.024872,
     "end_time": "2023-06-21T11:43:35.519593",
     "exception": false,
     "start_time": "2023-06-21T11:43:35.494721",
     "status": "completed"
    },
    "tags": []
   },
   "outputs": [
    {
     "data": {
      "text/plain": [
       "array(['DrugY', 'drugA', 'drugB', 'drugC', 'drugX'], dtype=object)"
      ]
     },
     "execution_count": 15,
     "metadata": {},
     "output_type": "execute_result"
    }
   ],
   "source": [
    "labels = le.inverse_transform(model.classes_)\n",
    "labels"
   ]
  },
  {
   "cell_type": "code",
   "execution_count": 16,
   "id": "cc5dbce3",
   "metadata": {
    "execution": {
     "iopub.execute_input": "2023-06-21T11:43:35.546731Z",
     "iopub.status.busy": "2023-06-21T11:43:35.546316Z",
     "iopub.status.idle": "2023-06-21T11:43:35.934448Z",
     "shell.execute_reply": "2023-06-21T11:43:35.933488Z"
    },
    "papermill": {
     "duration": 0.404831,
     "end_time": "2023-06-21T11:43:35.936800",
     "exception": false,
     "start_time": "2023-06-21T11:43:35.531969",
     "status": "completed"
    },
    "tags": []
   },
   "outputs": [
    {
     "data": {
      "image/png": "[encoded data removed]",
      "text/plain": [
       "<Figure size 640x480 with 2 Axes>"
      ]
     },
     "metadata": {},
     "output_type": "display_data"
    }
   ],
   "source": [
    "cm = ConfusionMatrixDisplay(confusion_matrix(y_test,yhat),display_labels=labels)\n",
    "cm.plot()\n",
    "plt.show()"
   ]
  },
  {
   "cell_type": "markdown",
   "id": "adb98b50",
   "metadata": {
    "papermill": {
     "duration": 0.013288,
     "end_time": "2023-06-21T11:43:35.963480",
     "exception": false,
     "start_time": "2023-06-21T11:43:35.950192",
     "status": "completed"
    },
    "tags": []
   },
   "source": [
    "## Classification report"
   ]
  },
  {
   "cell_type": "code",
   "execution_count": 17,
   "id": "1e1217b8",
   "metadata": {
    "execution": {
     "iopub.execute_input": "2023-06-21T11:43:35.994681Z",
     "iopub.status.busy": "2023-06-21T11:43:35.993782Z",
     "iopub.status.idle": "2023-06-21T11:43:36.011236Z",
     "shell.execute_reply": "2023-06-21T11:43:36.009936Z"
    },
    "papermill": {
     "duration": 0.036841,
     "end_time": "2023-06-21T11:43:36.014270",
     "exception": false,
     "start_time": "2023-06-21T11:43:35.977429",
     "status": "completed"
    },
    "tags": []
   },
   "outputs": [
    {
     "name": "stdout",
     "output_type": "stream",
     "text": [
      "              precision    recall  f1-score   support\n",
      "\n",
      "           0       1.00      1.00      1.00         7\n",
      "           1       1.00      1.00      1.00         1\n",
      "           2       1.00      1.00      1.00         2\n",
      "           3       1.00      1.00      1.00         2\n",
      "           4       1.00      1.00      1.00         3\n",
      "\n",
      "    accuracy                           1.00        15\n",
      "   macro avg       1.00      1.00      1.00        15\n",
      "weighted avg       1.00      1.00      1.00        15\n",
      "\n"
     ]
    }
   ],
   "source": [
    "print(classification_report(y_test,yhat))"
   ]
  },
  {
   "cell_type": "markdown",
   "id": "c6bfd0bf",
   "metadata": {
    "papermill": {
     "duration": 0.012859,
     "end_time": "2023-06-21T11:43:36.040189",
     "exception": false,
     "start_time": "2023-06-21T11:43:36.027330",
     "status": "completed"
    },
    "tags": []
   },
   "source": [
    "# Saving the model"
   ]
  },
  {
   "cell_type": "code",
   "execution_count": 18,
   "id": "60258ab1",
   "metadata": {
    "execution": {
     "iopub.execute_input": "2023-06-21T11:43:36.070037Z",
     "iopub.status.busy": "2023-06-21T11:43:36.069603Z",
     "iopub.status.idle": "2023-06-21T11:43:36.080217Z",
     "shell.execute_reply": "2023-06-21T11:43:36.078843Z"
    },
    "papermill": {
     "duration": 0.02901,
     "end_time": "2023-06-21T11:43:36.083401",
     "exception": false,
     "start_time": "2023-06-21T11:43:36.054391",
     "status": "completed"
    },
    "tags": []
   },
   "outputs": [],
   "source": [
    "model.save_model(\"/kaggle/working/xgb_drug_classification.bin\")"
   ]
  }
 ],
 "metadata": {
  "kernelspec": {
   "display_name": "Python 3",
   "language": "python",
   "name": "python3"
  },
  "language_info": {
   "codemirror_mode": {
    "name": "ipython",
    "version": 3
   },
   "file_extension": ".py",
   "mimetype": "text/x-python",
   "name": "python",
   "nbconvert_exporter": "python",
   "pygments_lexer": "ipython3",
   "version": "3.10.10"
  },
  "papermill": {
   "default_parameters": {},
   "duration": 21.959838,
   "end_time": "2023-06-21T11:43:38.379093",
   "environment_variables": {},
   "exception": null,
   "input_path": "__notebook__.ipynb",
   "output_path": "__notebook__.ipynb",
   "parameters": {},
   "start_time": "2023-06-21T11:43:16.419255",
   "version": "2.4.0"
  }
 },
 "nbformat": 4,
 "nbformat_minor": 5
}
